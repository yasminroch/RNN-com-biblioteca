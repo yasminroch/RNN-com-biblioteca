{
  "nbformat": 4,
  "nbformat_minor": 0,
  "metadata": {
    "colab": {
      "provenance": [],
      "toc_visible": true,
      "machine_shape": "hm",
      "gpuType": "T4"
    },
    "kernelspec": {
      "name": "python3",
      "display_name": "Python 3"
    },
    "language_info": {
      "name": "python"
    },
    "accelerator": "GPU"
  },
  "cells": [
    {
      "cell_type": "code",
      "source": [
        "import pandas as pd\n",
        "import numpy as np\n",
        "import pandas as pd\n",
        "from sklearn.preprocessing import MinMaxScaler\n",
        "from tensorflow.keras.models import Sequential\n",
        "from tensorflow.keras.layers import Dense, SimpleRNN\n",
        "import matplotlib.pyplot as plt\n",
        "from sklearn.metrics import mean_squared_error\n",
        "from tensorflow.keras.layers import Dense, LSTM\n",
        "from sklearn.model_selection import train_test_split"
      ],
      "metadata": {
        "id": "TghUeT-TEKxG"
      },
      "execution_count": 8,
      "outputs": []
    },
    {
      "cell_type": "code",
      "execution_count": 4,
      "metadata": {
        "colab": {
          "base_uri": "https://localhost:8080/"
        },
        "id": "CJP66ZoHAx4w",
        "outputId": "cb858740-c53b-4426-e314-78ef57e27fce"
      },
      "outputs": [
        {
          "output_type": "stream",
          "name": "stdout",
          "text": [
            "Mounted at /content/drive\n"
          ]
        }
      ],
      "source": [
        "from google.colab import drive\n",
        "drive.mount('/content/drive')"
      ]
    },
    {
      "cell_type": "markdown",
      "source": [
        "## Dataset"
      ],
      "metadata": {
        "id": "QvA5K4WdXWuT"
      }
    },
    {
      "cell_type": "markdown",
      "source": [
        "O Dataset escolhido foi o dataset referente ao Preço das ações da Apple de 1980 a 2021, este dataset pode ser acessado [aqui](https://www.kaggle.com/datasets/meetnagadia/apple-stock-price-from-19802021/code). endo um dataset que já é indicado a sua execução de análise de séries Temporais e EDA.\n"
      ],
      "metadata": {
        "id": "kpLX1LNlXYs9"
      }
    },
    {
      "cell_type": "code",
      "execution_count": 18,
      "metadata": {
        "id": "5LNYmzdyVt38",
        "outputId": "f57c1e65-3aaf-4a7f-b28f-283a2cadb784",
        "colab": {
          "base_uri": "https://localhost:8080/",
          "height": 206
        }
      },
      "outputs": [
        {
          "output_type": "execute_result",
          "data": {
            "text/plain": [
              "         Date      Open      High       Low     Close  Adj Close     Volume\n",
              "0  1980-12-12  0.128348  0.128906  0.128348  0.128348   0.100178  469033600\n",
              "1  1980-12-15  0.122210  0.122210  0.121652  0.121652   0.094952  175884800\n",
              "2  1980-12-16  0.113281  0.113281  0.112723  0.112723   0.087983  105728000\n",
              "3  1980-12-17  0.115513  0.116071  0.115513  0.115513   0.090160   86441600\n",
              "4  1980-12-18  0.118862  0.119420  0.118862  0.118862   0.092774   73449600"
            ],
            "text/html": [
              "\n",
              "  <div id=\"df-cf44b734-8a81-4642-8a17-75a7bc302d69\" class=\"colab-df-container\">\n",
              "    <div>\n",
              "<style scoped>\n",
              "    .dataframe tbody tr th:only-of-type {\n",
              "        vertical-align: middle;\n",
              "    }\n",
              "\n",
              "    .dataframe tbody tr th {\n",
              "        vertical-align: top;\n",
              "    }\n",
              "\n",
              "    .dataframe thead th {\n",
              "        text-align: right;\n",
              "    }\n",
              "</style>\n",
              "<table border=\"1\" class=\"dataframe\">\n",
              "  <thead>\n",
              "    <tr style=\"text-align: right;\">\n",
              "      <th></th>\n",
              "      <th>Date</th>\n",
              "      <th>Open</th>\n",
              "      <th>High</th>\n",
              "      <th>Low</th>\n",
              "      <th>Close</th>\n",
              "      <th>Adj Close</th>\n",
              "      <th>Volume</th>\n",
              "    </tr>\n",
              "  </thead>\n",
              "  <tbody>\n",
              "    <tr>\n",
              "      <th>0</th>\n",
              "      <td>1980-12-12</td>\n",
              "      <td>0.128348</td>\n",
              "      <td>0.128906</td>\n",
              "      <td>0.128348</td>\n",
              "      <td>0.128348</td>\n",
              "      <td>0.100178</td>\n",
              "      <td>469033600</td>\n",
              "    </tr>\n",
              "    <tr>\n",
              "      <th>1</th>\n",
              "      <td>1980-12-15</td>\n",
              "      <td>0.122210</td>\n",
              "      <td>0.122210</td>\n",
              "      <td>0.121652</td>\n",
              "      <td>0.121652</td>\n",
              "      <td>0.094952</td>\n",
              "      <td>175884800</td>\n",
              "    </tr>\n",
              "    <tr>\n",
              "      <th>2</th>\n",
              "      <td>1980-12-16</td>\n",
              "      <td>0.113281</td>\n",
              "      <td>0.113281</td>\n",
              "      <td>0.112723</td>\n",
              "      <td>0.112723</td>\n",
              "      <td>0.087983</td>\n",
              "      <td>105728000</td>\n",
              "    </tr>\n",
              "    <tr>\n",
              "      <th>3</th>\n",
              "      <td>1980-12-17</td>\n",
              "      <td>0.115513</td>\n",
              "      <td>0.116071</td>\n",
              "      <td>0.115513</td>\n",
              "      <td>0.115513</td>\n",
              "      <td>0.090160</td>\n",
              "      <td>86441600</td>\n",
              "    </tr>\n",
              "    <tr>\n",
              "      <th>4</th>\n",
              "      <td>1980-12-18</td>\n",
              "      <td>0.118862</td>\n",
              "      <td>0.119420</td>\n",
              "      <td>0.118862</td>\n",
              "      <td>0.118862</td>\n",
              "      <td>0.092774</td>\n",
              "      <td>73449600</td>\n",
              "    </tr>\n",
              "  </tbody>\n",
              "</table>\n",
              "</div>\n",
              "    <div class=\"colab-df-buttons\">\n",
              "\n",
              "  <div class=\"colab-df-container\">\n",
              "    <button class=\"colab-df-convert\" onclick=\"convertToInteractive('df-cf44b734-8a81-4642-8a17-75a7bc302d69')\"\n",
              "            title=\"Convert this dataframe to an interactive table.\"\n",
              "            style=\"display:none;\">\n",
              "\n",
              "  <svg xmlns=\"http://www.w3.org/2000/svg\" height=\"24px\" viewBox=\"0 -960 960 960\">\n",
              "    <path d=\"M120-120v-720h720v720H120Zm60-500h600v-160H180v160Zm220 220h160v-160H400v160Zm0 220h160v-160H400v160ZM180-400h160v-160H180v160Zm440 0h160v-160H620v160ZM180-180h160v-160H180v160Zm440 0h160v-160H620v160Z\"/>\n",
              "  </svg>\n",
              "    </button>\n",
              "\n",
              "  <style>\n",
              "    .colab-df-container {\n",
              "      display:flex;\n",
              "      gap: 12px;\n",
              "    }\n",
              "\n",
              "    .colab-df-convert {\n",
              "      background-color: #E8F0FE;\n",
              "      border: none;\n",
              "      border-radius: 50%;\n",
              "      cursor: pointer;\n",
              "      display: none;\n",
              "      fill: #1967D2;\n",
              "      height: 32px;\n",
              "      padding: 0 0 0 0;\n",
              "      width: 32px;\n",
              "    }\n",
              "\n",
              "    .colab-df-convert:hover {\n",
              "      background-color: #E2EBFA;\n",
              "      box-shadow: 0px 1px 2px rgba(60, 64, 67, 0.3), 0px 1px 3px 1px rgba(60, 64, 67, 0.15);\n",
              "      fill: #174EA6;\n",
              "    }\n",
              "\n",
              "    .colab-df-buttons div {\n",
              "      margin-bottom: 4px;\n",
              "    }\n",
              "\n",
              "    [theme=dark] .colab-df-convert {\n",
              "      background-color: #3B4455;\n",
              "      fill: #D2E3FC;\n",
              "    }\n",
              "\n",
              "    [theme=dark] .colab-df-convert:hover {\n",
              "      background-color: #434B5C;\n",
              "      box-shadow: 0px 1px 3px 1px rgba(0, 0, 0, 0.15);\n",
              "      filter: drop-shadow(0px 1px 2px rgba(0, 0, 0, 0.3));\n",
              "      fill: #FFFFFF;\n",
              "    }\n",
              "  </style>\n",
              "\n",
              "    <script>\n",
              "      const buttonEl =\n",
              "        document.querySelector('#df-cf44b734-8a81-4642-8a17-75a7bc302d69 button.colab-df-convert');\n",
              "      buttonEl.style.display =\n",
              "        google.colab.kernel.accessAllowed ? 'block' : 'none';\n",
              "\n",
              "      async function convertToInteractive(key) {\n",
              "        const element = document.querySelector('#df-cf44b734-8a81-4642-8a17-75a7bc302d69');\n",
              "        const dataTable =\n",
              "          await google.colab.kernel.invokeFunction('convertToInteractive',\n",
              "                                                    [key], {});\n",
              "        if (!dataTable) return;\n",
              "\n",
              "        const docLinkHtml = 'Like what you see? Visit the ' +\n",
              "          '<a target=\"_blank\" href=https://colab.research.google.com/notebooks/data_table.ipynb>data table notebook</a>'\n",
              "          + ' to learn more about interactive tables.';\n",
              "        element.innerHTML = '';\n",
              "        dataTable['output_type'] = 'display_data';\n",
              "        await google.colab.output.renderOutput(dataTable, element);\n",
              "        const docLink = document.createElement('div');\n",
              "        docLink.innerHTML = docLinkHtml;\n",
              "        element.appendChild(docLink);\n",
              "      }\n",
              "    </script>\n",
              "  </div>\n",
              "\n",
              "\n",
              "<div id=\"df-89b3cac8-6284-47ab-9266-6fbdcf3afb17\">\n",
              "  <button class=\"colab-df-quickchart\" onclick=\"quickchart('df-89b3cac8-6284-47ab-9266-6fbdcf3afb17')\"\n",
              "            title=\"Suggest charts\"\n",
              "            style=\"display:none;\">\n",
              "\n",
              "<svg xmlns=\"http://www.w3.org/2000/svg\" height=\"24px\"viewBox=\"0 0 24 24\"\n",
              "     width=\"24px\">\n",
              "    <g>\n",
              "        <path d=\"M19 3H5c-1.1 0-2 .9-2 2v14c0 1.1.9 2 2 2h14c1.1 0 2-.9 2-2V5c0-1.1-.9-2-2-2zM9 17H7v-7h2v7zm4 0h-2V7h2v10zm4 0h-2v-4h2v4z\"/>\n",
              "    </g>\n",
              "</svg>\n",
              "  </button>\n",
              "\n",
              "<style>\n",
              "  .colab-df-quickchart {\n",
              "      --bg-color: #E8F0FE;\n",
              "      --fill-color: #1967D2;\n",
              "      --hover-bg-color: #E2EBFA;\n",
              "      --hover-fill-color: #174EA6;\n",
              "      --disabled-fill-color: #AAA;\n",
              "      --disabled-bg-color: #DDD;\n",
              "  }\n",
              "\n",
              "  [theme=dark] .colab-df-quickchart {\n",
              "      --bg-color: #3B4455;\n",
              "      --fill-color: #D2E3FC;\n",
              "      --hover-bg-color: #434B5C;\n",
              "      --hover-fill-color: #FFFFFF;\n",
              "      --disabled-bg-color: #3B4455;\n",
              "      --disabled-fill-color: #666;\n",
              "  }\n",
              "\n",
              "  .colab-df-quickchart {\n",
              "    background-color: var(--bg-color);\n",
              "    border: none;\n",
              "    border-radius: 50%;\n",
              "    cursor: pointer;\n",
              "    display: none;\n",
              "    fill: var(--fill-color);\n",
              "    height: 32px;\n",
              "    padding: 0;\n",
              "    width: 32px;\n",
              "  }\n",
              "\n",
              "  .colab-df-quickchart:hover {\n",
              "    background-color: var(--hover-bg-color);\n",
              "    box-shadow: 0 1px 2px rgba(60, 64, 67, 0.3), 0 1px 3px 1px rgba(60, 64, 67, 0.15);\n",
              "    fill: var(--button-hover-fill-color);\n",
              "  }\n",
              "\n",
              "  .colab-df-quickchart-complete:disabled,\n",
              "  .colab-df-quickchart-complete:disabled:hover {\n",
              "    background-color: var(--disabled-bg-color);\n",
              "    fill: var(--disabled-fill-color);\n",
              "    box-shadow: none;\n",
              "  }\n",
              "\n",
              "  .colab-df-spinner {\n",
              "    border: 2px solid var(--fill-color);\n",
              "    border-color: transparent;\n",
              "    border-bottom-color: var(--fill-color);\n",
              "    animation:\n",
              "      spin 1s steps(1) infinite;\n",
              "  }\n",
              "\n",
              "  @keyframes spin {\n",
              "    0% {\n",
              "      border-color: transparent;\n",
              "      border-bottom-color: var(--fill-color);\n",
              "      border-left-color: var(--fill-color);\n",
              "    }\n",
              "    20% {\n",
              "      border-color: transparent;\n",
              "      border-left-color: var(--fill-color);\n",
              "      border-top-color: var(--fill-color);\n",
              "    }\n",
              "    30% {\n",
              "      border-color: transparent;\n",
              "      border-left-color: var(--fill-color);\n",
              "      border-top-color: var(--fill-color);\n",
              "      border-right-color: var(--fill-color);\n",
              "    }\n",
              "    40% {\n",
              "      border-color: transparent;\n",
              "      border-right-color: var(--fill-color);\n",
              "      border-top-color: var(--fill-color);\n",
              "    }\n",
              "    60% {\n",
              "      border-color: transparent;\n",
              "      border-right-color: var(--fill-color);\n",
              "    }\n",
              "    80% {\n",
              "      border-color: transparent;\n",
              "      border-right-color: var(--fill-color);\n",
              "      border-bottom-color: var(--fill-color);\n",
              "    }\n",
              "    90% {\n",
              "      border-color: transparent;\n",
              "      border-bottom-color: var(--fill-color);\n",
              "    }\n",
              "  }\n",
              "</style>\n",
              "\n",
              "  <script>\n",
              "    async function quickchart(key) {\n",
              "      const quickchartButtonEl =\n",
              "        document.querySelector('#' + key + ' button');\n",
              "      quickchartButtonEl.disabled = true;  // To prevent multiple clicks.\n",
              "      quickchartButtonEl.classList.add('colab-df-spinner');\n",
              "      try {\n",
              "        const charts = await google.colab.kernel.invokeFunction(\n",
              "            'suggestCharts', [key], {});\n",
              "      } catch (error) {\n",
              "        console.error('Error during call to suggestCharts:', error);\n",
              "      }\n",
              "      quickchartButtonEl.classList.remove('colab-df-spinner');\n",
              "      quickchartButtonEl.classList.add('colab-df-quickchart-complete');\n",
              "    }\n",
              "    (() => {\n",
              "      let quickchartButtonEl =\n",
              "        document.querySelector('#df-89b3cac8-6284-47ab-9266-6fbdcf3afb17 button');\n",
              "      quickchartButtonEl.style.display =\n",
              "        google.colab.kernel.accessAllowed ? 'block' : 'none';\n",
              "    })();\n",
              "  </script>\n",
              "</div>\n",
              "\n",
              "    </div>\n",
              "  </div>\n"
            ],
            "application/vnd.google.colaboratory.intrinsic+json": {
              "type": "dataframe",
              "variable_name": "df",
              "summary": "{\n  \"name\": \"df\",\n  \"rows\": 10468,\n  \"fields\": [\n    {\n      \"column\": \"Date\",\n      \"properties\": {\n        \"dtype\": \"object\",\n        \"num_unique_values\": 10468,\n        \"samples\": [\n          \"2010-12-07\",\n          \"2001-10-15\",\n          \"1989-04-25\"\n        ],\n        \"semantic_type\": \"\",\n        \"description\": \"\"\n      }\n    },\n    {\n      \"column\": \"Open\",\n      \"properties\": {\n        \"dtype\": \"number\",\n        \"std\": 31.91417418124892,\n        \"min\": 0.049665,\n        \"max\": 182.630005,\n        \"num_unique_values\": 5823,\n        \"samples\": [\n          23.6975,\n          27.7775,\n          0.819196\n        ],\n        \"semantic_type\": \"\",\n        \"description\": \"\"\n      }\n    },\n    {\n      \"column\": \"High\",\n      \"properties\": {\n        \"dtype\": \"number\",\n        \"std\": 32.28915788664479,\n        \"min\": 0.049665,\n        \"max\": 182.940002,\n        \"num_unique_values\": 5760,\n        \"samples\": [\n          28.530001,\n          50.689999,\n          4.762143\n        ],\n        \"semantic_type\": \"\",\n        \"description\": \"\"\n      }\n    },\n    {\n      \"column\": \"Low\",\n      \"properties\": {\n        \"dtype\": \"number\",\n        \"std\": 31.543958639534466,\n        \"min\": 0.049107,\n        \"max\": 179.119995,\n        \"num_unique_values\": 5738,\n        \"samples\": [\n          0.173968,\n          19.078571,\n          41.790001\n        ],\n        \"semantic_type\": \"\",\n        \"description\": \"\"\n      }\n    },\n    {\n      \"column\": \"Close\",\n      \"properties\": {\n        \"dtype\": \"number\",\n        \"std\": 31.929489167412378,\n        \"min\": 0.049107,\n        \"max\": 182.009995,\n        \"num_unique_values\": 5926,\n        \"samples\": [\n          4.8225,\n          0.267679,\n          24.59\n        ],\n        \"semantic_type\": \"\",\n        \"description\": \"\"\n      }\n    },\n    {\n      \"column\": \"Adj Close\",\n      \"properties\": {\n        \"dtype\": \"number\",\n        \"std\": 31.637274647243565,\n        \"min\": 0.038329,\n        \"max\": 181.511703,\n        \"num_unique_values\": 7456,\n        \"samples\": [\n          28.802563,\n          0.412718,\n          0.425372\n        ],\n        \"semantic_type\": \"\",\n        \"description\": \"\"\n      }\n    },\n    {\n      \"column\": \"Volume\",\n      \"properties\": {\n        \"dtype\": \"number\",\n        \"std\": 338841842,\n        \"min\": 0,\n        \"max\": 7421640800,\n        \"num_unique_values\": 9905,\n        \"samples\": [\n          475764800,\n          211075200,\n          485021600\n        ],\n        \"semantic_type\": \"\",\n        \"description\": \"\"\n      }\n    }\n  ]\n}"
            }
          },
          "metadata": {},
          "execution_count": 18
        }
      ],
      "source": [
        "# Carregando a base de dados da Apple\n",
        "df = pd.read_csv('/content/drive/My Drive/Ponderada/AAPL.csv')\n",
        "df.head()"
      ]
    },
    {
      "cell_type": "markdown",
      "source": [
        "## Descrição das colunas do dataset"
      ],
      "metadata": {
        "id": "pWWgyUEFYJto"
      }
    },
    {
      "cell_type": "markdown",
      "source": [
        "Abaixo é possível saber o significado de cada coluna:\n",
        "\n",
        "\n",
        "* **Date (Data) - Data da observação**:\n",
        "   * Tipo: datetime.\n",
        "   * Representa a data em que os dados de preço de ação foram registrados. Algo importante para identificar a ordem cronológica dos dados (essencial na análse de séries temporais).\n",
        "* **Open (open) - Preço de abertura da ação naquele dia**:\n",
        "  * Tipo: float.\n",
        "  * É o preço pelo qual a ação da Apple começou a ser negociada no início do dia de mercado. Esse valor pode ser diferente do preço de fechamento do dia anterior devido a diversos fatores como notícias ou mudanças no mercado durante o dia/noite.\n",
        "* **High (Máxima) - Maior preço da ação naquele dia**:\n",
        "  * Tipo: float.\n",
        "  * É o maior preço que a ação alcançou durante o dia. Esse valor é útil para entender o teto de negociação dentro de um único dia e pode indicar o limite de interesse dos investidores.\n",
        "* **Low (Mínima) - Menor preço da ação naquele dia**:\n",
        "  * Tipo: float.\n",
        "  * É o menor preço que a ação atingiu durante o dia. Ao contrário do preço máximo, o Low significa o preço mais baixo que os investidores estavam dispostos a pagar durante esse período.\n",
        "* **Close (Fechamento) - Preço de fechamento da ação naquele dia**:\n",
        "  * Tipo: float\n",
        "  * É o preço de fechamento da ação no final do dia de negociação. Este é pode ser considerado o valor mais importante, pois é o preço final pelo qual a ação foi negociada naquele dia. Com essa coluna, é possível prever preços futuros ao usar análise de séries temporais.\n",
        "* **Adj Close (Fechamento ajustado)** - Preço de fechamento ajustado\n",
        "  * Tipo: float.\n",
        "  * É o preço de fechamento ajustado para eventos corporativos, como dividendos, desdobramentos de ações (splits) e outras ações corporativas. Esse ajuste permite uma comparação mais precisa ao longo do tempo, considerando as mudanças estruturais na ação.\n",
        "* **Volume (Volume) - Número de ações negociadas naquele dia**:\n",
        "  * Tipo: int.\n",
        "  * É o número total de ações negociadas durante o dia. O volume pode indicar o nível de interesse e liquidez em relação à ação, com volumes mais altos, maior é o interesse de compra e venda.\n",
        "\n"
      ],
      "metadata": {
        "id": "gE4KWNSYYQoI"
      }
    },
    {
      "cell_type": "markdown",
      "source": [
        "## Aplicação das colunas"
      ],
      "metadata": {
        "id": "RA1WOeR_b1_B"
      }
    },
    {
      "cell_type": "markdown",
      "source": [
        "Esta seção é uma pequena expicação referente a modelagem e predição de séries temporais com cada coluna que já foi descrita anteriormente.\n",
        "\n",
        "* **Coluna Date**: ajuda a organizar os dados de forma cronológica.\n",
        "* **Coluna Close ou Adj Close**: são usadas como a variável alvo em modelos de predição de preços, pois representam o valor final de negociação de uma ação em um dia específico.\n",
        "* **Coluna Open, High, Low, e Volume**: podem ser usadas como características (features) adicionais para melhorar as predições, fornecendo um contexto mais completo sobre as condições de mercado em cada dia."
      ],
      "metadata": {
        "id": "D7OEUEJRb570"
      }
    },
    {
      "cell_type": "markdown",
      "source": [
        "## Escolha da métrica (MSE)"
      ],
      "metadata": {
        "id": "szu6QyBS2qvQ"
      }
    },
    {
      "cell_type": "markdown",
      "source": [
        "A métrica escolhida foi o MSE (Mean Squared Error) por se tratar de uma tarefa de predição de valores numéricos contínuos (preço de ações). O MSE é usado para verificar a acurácia de modelos e dá um maior peso aos maiores erros, já que, ao ser calculado, cada erro é elevado ao quadrado individualmente e, após isso, a média desses erros quadráticos é calculada - [Alura](https://www.alura.com.br/artigos/metricas-de-avaliacao-para-series-temporais?srsltid=AfmBOoqcGHB6zzoVCptRfYB1ZI_8HCfRAQge_k7ZryzbgyqyuZwAG92u).\n",
        "\n",
        "Então, medindo a média dos quadrados dos erros entre os valores preditos e os valores reais, há mais penalização nos erros maiores. O que o torna adequado para problemas de regressão como esse e que utiliza-se para a previsão de preços de ações na bolsa de valores, o qual envolve além do MSE, o MAE também\n",
        " ([Previsão de Preços de Ações com Modelos de Regressão e Séries Temporais](https://www.linkedin.com/pulse/previs%C3%A3o-de-pre%C3%A7os-a%C3%A7%C3%B5es-com-modelos-regress%C3%A3o-e-s%C3%A9ries-howard-roatti/))."
      ],
      "metadata": {
        "id": "OmcZY3S52uv8"
      }
    },
    {
      "cell_type": "markdown",
      "source": [
        "## Implementação do modelo de predição usando RNN"
      ],
      "metadata": {
        "id": "e9i1Xc-T64rA"
      }
    },
    {
      "cell_type": "markdown",
      "source": [
        "### Pré-Processamento"
      ],
      "metadata": {
        "id": "j-LiHAqcK9Bt"
      }
    },
    {
      "cell_type": "code",
      "source": [
        "# Preprocessamento de dados\n",
        "df['Date'] = pd.to_datetime(df['Date'])\n",
        "df.set_index('Date', inplace=True)\n",
        "\n",
        "# Seleciona a coluna Close para a predição\n",
        "data = df[['Close']].values\n",
        "\n",
        "# Escala os dados para o intervalo (0, 1)\n",
        "scaler = MinMaxScaler(feature_range=(0, 1))\n",
        "scaled_data = scaler.fit_transform(data)\n",
        "\n",
        "# Função para criar a estrutura de série temporal\n",
        "def create_dataset(dataset, time_step=1):\n",
        "    dataX, dataY = [], []\n",
        "    for i in range(len(dataset) - time_step - 1):\n",
        "        a = dataset[i:(i + time_step), 0]\n",
        "        dataX.append(a)\n",
        "        dataY.append(dataset[i + time_step, 0])\n",
        "    return np.array(dataX), np.array(dataY)\n",
        "\n",
        "# Número de timestamps\n",
        "time_step = 60\n",
        "X, y = create_dataset(scaled_data, time_step)\n",
        "\n",
        "# Reformulação dos dados para o formato [samples, time steps, features] de LSTM\n",
        "X = X.reshape(X.shape[0], X.shape[1], 1)\n",
        "\n",
        "# Separação dos dados em treino e teste (67% para treino)\n",
        "train_size = int(len(X) * 0.67)\n",
        "test_size = len(X) - train_size\n",
        "X_train, X_test = X[0:train_size], X[train_size:len(X)]\n",
        "y_train, y_test = y[0:train_size], y[train_size:len(y)]"
      ],
      "metadata": {
        "id": "6LOTI6QgLxC2"
      },
      "execution_count": 19,
      "outputs": []
    },
    {
      "cell_type": "markdown",
      "source": [
        "### Modelo"
      ],
      "metadata": {
        "id": "uk6khK027Nba"
      }
    },
    {
      "cell_type": "code",
      "source": [
        "# Modelo RNN LSTM\n",
        "model = Sequential()\n",
        "model.add(LSTM(50, activation='relu', input_shape=(X_train.shape[1], X_train.shape[2])))\n",
        "model.add(Dense(1))\n",
        "\n",
        "# Aplicação do Mean Squared Error(MSE) como loss\n",
        "model.compile(optimizer='adam', loss='mean_squared_error')\n",
        "\n",
        "# Treinamento do modelo\n",
        "history = model.fit(X_train, y_train, epochs=50, validation_data=(X_test, y_test), verbose=1)\n",
        "\n",
        "# Predicão do teste\n",
        "y_pred = model.predict(X_test)\n",
        "\n",
        "# Transformação inversa dos dados reais e preditos\n",
        "y_test_inverse = scaler.inverse_transform(y_test.reshape(-1, 1))\n",
        "y_pred_inverse = scaler.inverse_transform(y_pred)"
      ],
      "metadata": {
        "colab": {
          "base_uri": "https://localhost:8080/"
        },
        "id": "qh8Dj0wJX7ph",
        "outputId": "e70c0d8f-4402-4457-de86-6001f594c369"
      },
      "execution_count": 20,
      "outputs": [
        {
          "output_type": "stream",
          "name": "stdout",
          "text": [
            "Epoch 1/50\n"
          ]
        },
        {
          "output_type": "stream",
          "name": "stderr",
          "text": [
            "/usr/local/lib/python3.10/dist-packages/keras/src/layers/rnn/rnn.py:204: UserWarning: Do not pass an `input_shape`/`input_dim` argument to a layer. When using Sequential models, prefer using an `Input(shape)` object as the first layer in the model instead.\n",
            "  super().__init__(**kwargs)\n"
          ]
        },
        {
          "output_type": "stream",
          "name": "stdout",
          "text": [
            "\u001b[1m218/218\u001b[0m \u001b[32m━━━━━━━━━━━━━━━━━━━━\u001b[0m\u001b[37m\u001b[0m \u001b[1m5s\u001b[0m 14ms/step - loss: 1.3046e-05 - val_loss: 0.0093\n",
            "Epoch 2/50\n",
            "\u001b[1m218/218\u001b[0m \u001b[32m━━━━━━━━━━━━━━━━━━━━\u001b[0m\u001b[37m\u001b[0m \u001b[1m2s\u001b[0m 8ms/step - loss: 3.6119e-07 - val_loss: 0.0081\n",
            "Epoch 3/50\n",
            "\u001b[1m218/218\u001b[0m \u001b[32m━━━━━━━━━━━━━━━━━━━━\u001b[0m\u001b[37m\u001b[0m \u001b[1m2s\u001b[0m 7ms/step - loss: 4.6346e-07 - val_loss: 0.0065\n",
            "Epoch 4/50\n",
            "\u001b[1m218/218\u001b[0m \u001b[32m━━━━━━━━━━━━━━━━━━━━\u001b[0m\u001b[37m\u001b[0m \u001b[1m2s\u001b[0m 7ms/step - loss: 3.4810e-07 - val_loss: 0.0063\n",
            "Epoch 5/50\n",
            "\u001b[1m218/218\u001b[0m \u001b[32m━━━━━━━━━━━━━━━━━━━━\u001b[0m\u001b[37m\u001b[0m \u001b[1m2s\u001b[0m 7ms/step - loss: 3.4036e-07 - val_loss: 0.0058\n",
            "Epoch 6/50\n",
            "\u001b[1m218/218\u001b[0m \u001b[32m━━━━━━━━━━━━━━━━━━━━\u001b[0m\u001b[37m\u001b[0m \u001b[1m2s\u001b[0m 7ms/step - loss: 2.7586e-07 - val_loss: 0.0047\n",
            "Epoch 7/50\n",
            "\u001b[1m218/218\u001b[0m \u001b[32m━━━━━━━━━━━━━━━━━━━━\u001b[0m\u001b[37m\u001b[0m \u001b[1m2s\u001b[0m 7ms/step - loss: 3.2937e-07 - val_loss: 0.0037\n",
            "Epoch 8/50\n",
            "\u001b[1m218/218\u001b[0m \u001b[32m━━━━━━━━━━━━━━━━━━━━\u001b[0m\u001b[37m\u001b[0m \u001b[1m2s\u001b[0m 7ms/step - loss: 3.1304e-07 - val_loss: 0.0056\n",
            "Epoch 9/50\n",
            "\u001b[1m218/218\u001b[0m \u001b[32m━━━━━━━━━━━━━━━━━━━━\u001b[0m\u001b[37m\u001b[0m \u001b[1m2s\u001b[0m 7ms/step - loss: 2.8576e-07 - val_loss: 0.0033\n",
            "Epoch 10/50\n",
            "\u001b[1m218/218\u001b[0m \u001b[32m━━━━━━━━━━━━━━━━━━━━\u001b[0m\u001b[37m\u001b[0m \u001b[1m2s\u001b[0m 7ms/step - loss: 2.1917e-07 - val_loss: 0.0031\n",
            "Epoch 11/50\n",
            "\u001b[1m218/218\u001b[0m \u001b[32m━━━━━━━━━━━━━━━━━━━━\u001b[0m\u001b[37m\u001b[0m \u001b[1m2s\u001b[0m 7ms/step - loss: 1.9216e-07 - val_loss: 0.0033\n",
            "Epoch 12/50\n",
            "\u001b[1m218/218\u001b[0m \u001b[32m━━━━━━━━━━━━━━━━━━━━\u001b[0m\u001b[37m\u001b[0m \u001b[1m2s\u001b[0m 7ms/step - loss: 1.8319e-07 - val_loss: 0.0024\n",
            "Epoch 13/50\n",
            "\u001b[1m218/218\u001b[0m \u001b[32m━━━━━━━━━━━━━━━━━━━━\u001b[0m\u001b[37m\u001b[0m \u001b[1m2s\u001b[0m 7ms/step - loss: 1.9379e-07 - val_loss: 0.0028\n",
            "Epoch 14/50\n",
            "\u001b[1m218/218\u001b[0m \u001b[32m━━━━━━━━━━━━━━━━━━━━\u001b[0m\u001b[37m\u001b[0m \u001b[1m2s\u001b[0m 7ms/step - loss: 2.0697e-07 - val_loss: 0.0022\n",
            "Epoch 15/50\n",
            "\u001b[1m218/218\u001b[0m \u001b[32m━━━━━━━━━━━━━━━━━━━━\u001b[0m\u001b[37m\u001b[0m \u001b[1m2s\u001b[0m 7ms/step - loss: 2.3410e-07 - val_loss: 0.0022\n",
            "Epoch 16/50\n",
            "\u001b[1m218/218\u001b[0m \u001b[32m━━━━━━━━━━━━━━━━━━━━\u001b[0m\u001b[37m\u001b[0m \u001b[1m2s\u001b[0m 7ms/step - loss: 1.7130e-07 - val_loss: 0.0015\n",
            "Epoch 17/50\n",
            "\u001b[1m218/218\u001b[0m \u001b[32m━━━━━━━━━━━━━━━━━━━━\u001b[0m\u001b[37m\u001b[0m \u001b[1m2s\u001b[0m 7ms/step - loss: 2.0040e-07 - val_loss: 0.0019\n",
            "Epoch 18/50\n",
            "\u001b[1m218/218\u001b[0m \u001b[32m━━━━━━━━━━━━━━━━━━━━\u001b[0m\u001b[37m\u001b[0m \u001b[1m2s\u001b[0m 7ms/step - loss: 1.6629e-07 - val_loss: 0.0018\n",
            "Epoch 19/50\n",
            "\u001b[1m218/218\u001b[0m \u001b[32m━━━━━━━━━━━━━━━━━━━━\u001b[0m\u001b[37m\u001b[0m \u001b[1m2s\u001b[0m 7ms/step - loss: 1.4968e-07 - val_loss: 0.0014\n",
            "Epoch 20/50\n",
            "\u001b[1m218/218\u001b[0m \u001b[32m━━━━━━━━━━━━━━━━━━━━\u001b[0m\u001b[37m\u001b[0m \u001b[1m2s\u001b[0m 7ms/step - loss: 1.4445e-07 - val_loss: 0.0011\n",
            "Epoch 21/50\n",
            "\u001b[1m218/218\u001b[0m \u001b[32m━━━━━━━━━━━━━━━━━━━━\u001b[0m\u001b[37m\u001b[0m \u001b[1m2s\u001b[0m 7ms/step - loss: 1.4952e-07 - val_loss: 0.0012\n",
            "Epoch 22/50\n",
            "\u001b[1m218/218\u001b[0m \u001b[32m━━━━━━━━━━━━━━━━━━━━\u001b[0m\u001b[37m\u001b[0m \u001b[1m2s\u001b[0m 7ms/step - loss: 1.5539e-07 - val_loss: 0.0014\n",
            "Epoch 23/50\n",
            "\u001b[1m218/218\u001b[0m \u001b[32m━━━━━━━━━━━━━━━━━━━━\u001b[0m\u001b[37m\u001b[0m \u001b[1m2s\u001b[0m 7ms/step - loss: 1.6175e-07 - val_loss: 8.8487e-04\n",
            "Epoch 24/50\n",
            "\u001b[1m218/218\u001b[0m \u001b[32m━━━━━━━━━━━━━━━━━━━━\u001b[0m\u001b[37m\u001b[0m \u001b[1m2s\u001b[0m 7ms/step - loss: 1.5167e-07 - val_loss: 7.5523e-04\n",
            "Epoch 25/50\n",
            "\u001b[1m218/218\u001b[0m \u001b[32m━━━━━━━━━━━━━━━━━━━━\u001b[0m\u001b[37m\u001b[0m \u001b[1m2s\u001b[0m 7ms/step - loss: 1.4406e-07 - val_loss: 7.8012e-04\n",
            "Epoch 26/50\n",
            "\u001b[1m218/218\u001b[0m \u001b[32m━━━━━━━━━━━━━━━━━━━━\u001b[0m\u001b[37m\u001b[0m \u001b[1m2s\u001b[0m 7ms/step - loss: 1.4499e-07 - val_loss: 8.1449e-04\n",
            "Epoch 27/50\n",
            "\u001b[1m218/218\u001b[0m \u001b[32m━━━━━━━━━━━━━━━━━━━━\u001b[0m\u001b[37m\u001b[0m \u001b[1m2s\u001b[0m 7ms/step - loss: 1.3553e-07 - val_loss: 6.6975e-04\n",
            "Epoch 28/50\n",
            "\u001b[1m218/218\u001b[0m \u001b[32m━━━━━━━━━━━━━━━━━━━━\u001b[0m\u001b[37m\u001b[0m \u001b[1m2s\u001b[0m 7ms/step - loss: 1.1568e-07 - val_loss: 5.8414e-04\n",
            "Epoch 29/50\n",
            "\u001b[1m218/218\u001b[0m \u001b[32m━━━━━━━━━━━━━━━━━━━━\u001b[0m\u001b[37m\u001b[0m \u001b[1m2s\u001b[0m 7ms/step - loss: 1.0268e-07 - val_loss: 0.0012\n",
            "Epoch 30/50\n",
            "\u001b[1m218/218\u001b[0m \u001b[32m━━━━━━━━━━━━━━━━━━━━\u001b[0m\u001b[37m\u001b[0m \u001b[1m2s\u001b[0m 7ms/step - loss: 1.2412e-07 - val_loss: 6.8945e-04\n",
            "Epoch 31/50\n",
            "\u001b[1m218/218\u001b[0m \u001b[32m━━━━━━━━━━━━━━━━━━━━\u001b[0m\u001b[37m\u001b[0m \u001b[1m2s\u001b[0m 7ms/step - loss: 1.1862e-07 - val_loss: 4.9029e-04\n",
            "Epoch 32/50\n",
            "\u001b[1m218/218\u001b[0m \u001b[32m━━━━━━━━━━━━━━━━━━━━\u001b[0m\u001b[37m\u001b[0m \u001b[1m2s\u001b[0m 7ms/step - loss: 1.1598e-07 - val_loss: 4.1935e-04\n",
            "Epoch 33/50\n",
            "\u001b[1m218/218\u001b[0m \u001b[32m━━━━━━━━━━━━━━━━━━━━\u001b[0m\u001b[37m\u001b[0m \u001b[1m2s\u001b[0m 7ms/step - loss: 1.0743e-07 - val_loss: 7.4083e-04\n",
            "Epoch 34/50\n",
            "\u001b[1m218/218\u001b[0m \u001b[32m━━━━━━━━━━━━━━━━━━━━\u001b[0m\u001b[37m\u001b[0m \u001b[1m2s\u001b[0m 7ms/step - loss: 1.1954e-07 - val_loss: 7.8371e-04\n",
            "Epoch 35/50\n",
            "\u001b[1m218/218\u001b[0m \u001b[32m━━━━━━━━━━━━━━━━━━━━\u001b[0m\u001b[37m\u001b[0m \u001b[1m2s\u001b[0m 7ms/step - loss: 1.1285e-07 - val_loss: 7.6337e-04\n",
            "Epoch 36/50\n",
            "\u001b[1m218/218\u001b[0m \u001b[32m━━━━━━━━━━━━━━━━━━━━\u001b[0m\u001b[37m\u001b[0m \u001b[1m2s\u001b[0m 7ms/step - loss: 1.2397e-07 - val_loss: 3.6023e-04\n",
            "Epoch 37/50\n",
            "\u001b[1m218/218\u001b[0m \u001b[32m━━━━━━━━━━━━━━━━━━━━\u001b[0m\u001b[37m\u001b[0m \u001b[1m2s\u001b[0m 7ms/step - loss: 1.1834e-07 - val_loss: 4.6998e-04\n",
            "Epoch 38/50\n",
            "\u001b[1m218/218\u001b[0m \u001b[32m━━━━━━━━━━━━━━━━━━━━\u001b[0m\u001b[37m\u001b[0m \u001b[1m2s\u001b[0m 7ms/step - loss: 1.0298e-07 - val_loss: 6.1418e-04\n",
            "Epoch 39/50\n",
            "\u001b[1m218/218\u001b[0m \u001b[32m━━━━━━━━━━━━━━━━━━━━\u001b[0m\u001b[37m\u001b[0m \u001b[1m2s\u001b[0m 7ms/step - loss: 1.1275e-07 - val_loss: 8.5737e-04\n",
            "Epoch 40/50\n",
            "\u001b[1m218/218\u001b[0m \u001b[32m━━━━━━━━━━━━━━━━━━━━\u001b[0m\u001b[37m\u001b[0m \u001b[1m2s\u001b[0m 7ms/step - loss: 1.0758e-07 - val_loss: 6.7515e-04\n",
            "Epoch 41/50\n",
            "\u001b[1m218/218\u001b[0m \u001b[32m━━━━━━━━━━━━━━━━━━━━\u001b[0m\u001b[37m\u001b[0m \u001b[1m2s\u001b[0m 7ms/step - loss: 1.1693e-07 - val_loss: 5.2180e-04\n",
            "Epoch 42/50\n",
            "\u001b[1m218/218\u001b[0m \u001b[32m━━━━━━━━━━━━━━━━━━━━\u001b[0m\u001b[37m\u001b[0m \u001b[1m2s\u001b[0m 7ms/step - loss: 1.0645e-07 - val_loss: 4.3763e-04\n",
            "Epoch 43/50\n",
            "\u001b[1m218/218\u001b[0m \u001b[32m━━━━━━━━━━━━━━━━━━━━\u001b[0m\u001b[37m\u001b[0m \u001b[1m2s\u001b[0m 7ms/step - loss: 1.1916e-07 - val_loss: 6.8689e-04\n",
            "Epoch 44/50\n",
            "\u001b[1m218/218\u001b[0m \u001b[32m━━━━━━━━━━━━━━━━━━━━\u001b[0m\u001b[37m\u001b[0m \u001b[1m2s\u001b[0m 7ms/step - loss: 1.2413e-07 - val_loss: 3.6301e-04\n",
            "Epoch 45/50\n",
            "\u001b[1m218/218\u001b[0m \u001b[32m━━━━━━━━━━━━━━━━━━━━\u001b[0m\u001b[37m\u001b[0m \u001b[1m2s\u001b[0m 7ms/step - loss: 1.1291e-07 - val_loss: 8.7581e-04\n",
            "Epoch 46/50\n",
            "\u001b[1m218/218\u001b[0m \u001b[32m━━━━━━━━━━━━━━━━━━━━\u001b[0m\u001b[37m\u001b[0m \u001b[1m2s\u001b[0m 7ms/step - loss: 1.1839e-07 - val_loss: 4.6323e-04\n",
            "Epoch 47/50\n",
            "\u001b[1m218/218\u001b[0m \u001b[32m━━━━━━━━━━━━━━━━━━━━\u001b[0m\u001b[37m\u001b[0m \u001b[1m2s\u001b[0m 7ms/step - loss: 1.2113e-07 - val_loss: 3.6321e-04\n",
            "Epoch 48/50\n",
            "\u001b[1m218/218\u001b[0m \u001b[32m━━━━━━━━━━━━━━━━━━━━\u001b[0m\u001b[37m\u001b[0m \u001b[1m2s\u001b[0m 7ms/step - loss: 1.3996e-07 - val_loss: 2.8187e-04\n",
            "Epoch 49/50\n",
            "\u001b[1m218/218\u001b[0m \u001b[32m━━━━━━━━━━━━━━━━━━━━\u001b[0m\u001b[37m\u001b[0m \u001b[1m2s\u001b[0m 7ms/step - loss: 1.1044e-07 - val_loss: 5.1553e-04\n",
            "Epoch 50/50\n",
            "\u001b[1m218/218\u001b[0m \u001b[32m━━━━━━━━━━━━━━━━━━━━\u001b[0m\u001b[37m\u001b[0m \u001b[1m2s\u001b[0m 7ms/step - loss: 8.5295e-08 - val_loss: 3.8336e-04\n"
          ]
        },
        {
          "output_type": "stream",
          "name": "stderr",
          "text": [
            "WARNING:tensorflow:5 out of the last 5 calls to <function TensorFlowTrainer.make_predict_function.<locals>.one_step_on_data_distributed at 0x7d2394c38af0> triggered tf.function retracing. Tracing is expensive and the excessive number of tracings could be due to (1) creating @tf.function repeatedly in a loop, (2) passing tensors with different shapes, (3) passing Python objects instead of tensors. For (1), please define your @tf.function outside of the loop. For (2), @tf.function has reduce_retracing=True option that can avoid unnecessary retracing. For (3), please refer to https://www.tensorflow.org/guide/function#controlling_retracing and https://www.tensorflow.org/api_docs/python/tf/function for  more details.\n"
          ]
        },
        {
          "output_type": "stream",
          "name": "stdout",
          "text": [
            "\u001b[1m108/108\u001b[0m \u001b[32m━━━━━━━━━━━━━━━━━━━━\u001b[0m\u001b[37m\u001b[0m \u001b[1m1s\u001b[0m 5ms/step\n"
          ]
        }
      ]
    },
    {
      "cell_type": "markdown",
      "source": [
        "### Resultados"
      ],
      "metadata": {
        "id": "XhseU-Yj6-Od"
      }
    },
    {
      "cell_type": "code",
      "source": [
        "# Plot dos valores reais vs preditos\n",
        "plt.figure(figsize=(10,6))\n",
        "plt.plot(y_test_inverse, label='Real Values')\n",
        "plt.plot(y_pred_inverse, label='Predicted Values')\n",
        "plt.title('Real vs Predicted Values')\n",
        "plt.xlabel('Samples')\n",
        "plt.ylabel('Value')\n",
        "plt.legend()\n",
        "plt.show()"
      ],
      "metadata": {
        "colab": {
          "base_uri": "https://localhost:8080/",
          "height": 564
        },
        "id": "V9lMsV7oZPf2",
        "outputId": "af52d634-ead3-4e5e-ad97-c124988830b4"
      },
      "execution_count": 21,
      "outputs": [
        {
          "output_type": "display_data",
          "data": {
            "text/plain": [
              "<Figure size 1000x600 with 1 Axes>"
            ],
            "image/png": "[encoded data removed]"
          },
          "metadata": {}
        }
      ]
    },
    {
      "cell_type": "markdown",
      "source": [
        "#### Análise do resultado (Conclusão)"
      ],
      "metadata": {
        "id": "qxW1-RC0cpAy"
      }
    },
    {
      "cell_type": "markdown",
      "source": [
        "O modelo consegue capturar bem a tendência geral dos dados das ações da Apple ao longo dos anos. Os valores preditos se identificam na cor laranja e acompanham bem a curva dos valores reais(azul), o que indica que o modelo está aprendendo a dinâmica temporal dos dados, mesmo que em alguns momentos apresente dificuldade de capturar picos e vales. Além disso, com o MSE aparentemente está penalização os erros quando o valor valor predito está distante do valor real."
      ],
      "metadata": {
        "id": "tLUfXAWpc09z"
      }
    }
  ]
}